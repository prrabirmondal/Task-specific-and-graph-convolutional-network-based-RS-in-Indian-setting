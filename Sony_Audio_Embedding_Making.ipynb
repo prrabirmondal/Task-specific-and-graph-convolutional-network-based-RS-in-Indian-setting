{
  "cells": [
    {
      "cell_type": "markdown",
      "metadata": {
        "id": "eoP5Mjtyzp3P"
      },
      "source": [
        "# Helpers"
      ]
    },
    {
      "cell_type": "code",
      "execution_count": null,
      "metadata": {
        "colab": {
          "base_uri": "https://localhost:8080/"
        },
        "id": "WApHUHGBxZTM",
        "outputId": "8657c257-f53c-418f-bacb-af40b085c0f0"
      },
      "outputs": [
        {
          "output_type": "stream",
          "name": "stdout",
          "text": [
            "Looking in indexes: https://pypi.org/simple, https://us-python.pkg.dev/colab-wheels/public/simple/\n",
            "Collecting pickle5\n",
            "  Downloading pickle5-0.0.11.tar.gz (132 kB)\n",
            "\u001b[2K     \u001b[90m━━━━━━━━━━━━━━━━━━━━━━━━━━━━━━━━━━━━━━━\u001b[0m \u001b[32m132.1/132.1 KB\u001b[0m \u001b[31m1.0 MB/s\u001b[0m eta \u001b[36m0:00:00\u001b[0m\n",
            "\u001b[?25h  Preparing metadata (setup.py) ... \u001b[?25l\u001b[?25hdone\n",
            "Building wheels for collected packages: pickle5\n",
            "  Building wheel for pickle5 (setup.py) ... \u001b[?25l\u001b[?25hdone\n",
            "  Created wheel for pickle5: filename=pickle5-0.0.11-cp38-cp38-linux_x86_64.whl size=262110 sha256=fa1f7ec93696edd0aa5a8969f80198d96e063d6762710466d8272cbd329b6f3c\n",
            "  Stored in directory: /root/.cache/pip/wheels/25/d4/61/dbd8edd1a0d656be7b4267c85db3b61951eb60016a0154a122\n",
            "Successfully built pickle5\n",
            "Installing collected packages: pickle5\n",
            "Successfully installed pickle5-0.0.11\n"
          ]
        }
      ],
      "source": [
        "!pip install pickle5"
      ]
    },
    {
      "cell_type": "code",
      "execution_count": null,
      "metadata": {
        "colab": {
          "base_uri": "https://localhost:8080/"
        },
        "id": "y0Hd9fVtxfSP",
        "outputId": "75fb6db5-1d50-4368-ce42-a7b9358c8bd6"
      },
      "outputs": [
        {
          "output_type": "stream",
          "name": "stdout",
          "text": [
            "Looking in indexes: https://pypi.org/simple, https://us-python.pkg.dev/colab-wheels/public/simple/\n",
            "Collecting keras_applications\n",
            "  Downloading Keras_Applications-1.0.8-py3-none-any.whl (50 kB)\n",
            "\u001b[2K     \u001b[90m━━━━━━━━━━━━━━━━━━━━━━━━━━━━━━━━━━━━━━━━\u001b[0m \u001b[32m50.7/50.7 KB\u001b[0m \u001b[31m2.9 MB/s\u001b[0m eta \u001b[36m0:00:00\u001b[0m\n",
            "\u001b[?25hRequirement already satisfied: numpy>=1.9.1 in /usr/local/lib/python3.8/dist-packages (from keras_applications) (1.22.4)\n",
            "Requirement already satisfied: h5py in /usr/local/lib/python3.8/dist-packages (from keras_applications) (3.1.0)\n",
            "Installing collected packages: keras_applications\n",
            "Successfully installed keras_applications-1.0.8\n"
          ]
        }
      ],
      "source": [
        "!pip install keras_applications"
      ]
    },
    {
      "cell_type": "code",
      "execution_count": null,
      "metadata": {
        "colab": {
          "base_uri": "https://localhost:8080/"
        },
        "id": "SYwjSXSlKxPs",
        "outputId": "24ecd91d-cf22-48de-8ad2-e2654c3ffb6c"
      },
      "outputs": [
        {
          "output_type": "stream",
          "name": "stdout",
          "text": [
            "Mounted at /content/drive\n"
          ]
        }
      ],
      "source": [
        "from google.colab import drive\n",
        "drive.mount('/content/drive')"
      ]
    },
    {
      "cell_type": "code",
      "execution_count": null,
      "metadata": {
        "id": "hiNOmIuByOv-"
      },
      "outputs": [],
      "source": [
        "import os\n",
        "import pickle5 as pickle\n",
        "from pathlib import Path\n",
        "import random\n",
        "import tensorflow as tf\n",
        "import keras\n",
        "import string\n",
        "from math import ceil\n",
        "import pandas as pd\n",
        "import random\n",
        "import numpy as np\n",
        "import sys\n",
        "import os\n",
        "from PIL import Image\n",
        "from tqdm import tqdm\n",
        "from sklearn.metrics import mean_squared_error as mse\n",
        "from tensorflow.keras.callbacks import EarlyStopping\n",
        "from sklearn.model_selection import train_test_split"
      ]
    },
    {
      "cell_type": "code",
      "execution_count": null,
      "metadata": {
        "id": "VvCHHB1YzkXa"
      },
      "outputs": [],
      "source": [
        "def path_of(location):\n",
        "    me_dir, me_file= os.path.split(os.path.abspath(__file__))\n",
        "    return os.path.join(me_dir, location)\n",
        "\n",
        "def load_pkl(filename):\n",
        "    filename= filename\n",
        "    data= None\n",
        "    with open(filename, \"rb\") as handle:\n",
        "        data= pickle.load(handle)\n",
        "        handle.close()\n",
        "    return data\n",
        "\n",
        "def store_pkl(object, filename):\n",
        "    filename= filename\n",
        "    with open(filename, \"wb\") as handle:\n",
        "        pickle.dump(object, handle, protocol=pickle.HIGHEST_PROTOCOL)\n",
        "        handle.close()\n",
        "\n",
        "def is_valid_file(filename):\n",
        "    filename= path_of(filename)\n",
        "    file= Path(filename)\n",
        "    if file.is_file():\n",
        "        return True\n",
        "    return False\n",
        "\n",
        "\n",
        "def to_same_shape(arr_of_items, required_shape):\n",
        "    if len(arr_of_items) == 0:\n",
        "        print(\"Error: tried to make shape: \", required_shape, \", but item is empty...\")\n",
        "        exit()\n",
        "    if len(arr_of_items)>required_shape:\n",
        "        return arr_of_items[:required_shape]\n",
        "    res= []\n",
        "    ind=0\n",
        "    while len(res)<required_shape:\n",
        "        res.append(arr_of_items[ind])\n",
        "        ind= (ind+1)%len(arr_of_items)\n",
        "    return res\n",
        "\n",
        "def get_rand_str(size):\n",
        "    return \"\".join(random.choice(string.ascii_uppercase + string.digits) for _ in range(size))\n",
        "\n",
        "def save_model(keras_model, save_folder=\"./models\", save_filename= None):\n",
        "    if save_filename is None:\n",
        "        me_dir, me_file= os.path.split(os.path.abspath(__file__))\n",
        "        save_filename= me_file.split(\".\")[0]+\".h5\"\n",
        "    op_file= path_of(save_folder +\"/\"+save_filename)\n",
        "    keras_model.save(op_file)\n",
        "    print(\"\\n\\n    Saved_model:\", save_filename, \"\\n\\n\")"
      ]
    },
    {
      "cell_type": "markdown",
      "metadata": {
        "id": "NASBYk9BzuTN"
      },
      "source": [
        "# Model"
      ]
    },
    {
      "cell_type": "code",
      "execution_count": null,
      "metadata": {
        "id": "Uiw6VKHNJ4hU"
      },
      "outputs": [],
      "source": [
        "def save(self, location= \"./model_vid/\"):\n",
        "    self.model_cnn.save(location+\"/model_cnn.h5\")\n",
        "    self.model_user.save(location+\"/model_user.h5\")\n",
        "    self.model_full.save(location+\"/model_full.h5\")"
      ]
    },
    {
      "cell_type": "markdown",
      "metadata": {
        "id": "YhGlHmdpz5TZ"
      },
      "source": [
        "# Train"
      ]
    },
    {
      "cell_type": "code",
      "execution_count": null,
      "metadata": {
        "colab": {
          "base_uri": "https://localhost:8080/"
        },
        "id": "1t5DdjG70AIx",
        "outputId": "003c0d49-0abb-4fe4-d048-71fd179134ac"
      },
      "outputs": [
        {
          "output_type": "stream",
          "name": "stdout",
          "text": [
            "999\n"
          ]
        }
      ],
      "source": [
        "use_precomputed_dict_for_video= False\n",
        "\n",
        "\n",
        "input_dimension = 999\n",
        "audio_encode_dim = 333\n",
        "\n",
        "# imageW, imageH= 112, 112\n",
        "\n",
        "batch_size= 64\n",
        "\n",
        "train_obj= load_pkl(\"/content/drive/MyDrive/Recommendation_system/train_v2.obj\") #will load pkl data using func\n",
        "test_obj= load_pkl(\"/content/drive/MyDrive/Recommendation_system/test_v2.obj\")   #will load pkl data using func\n",
        "\n",
        "\n",
        "user_enc= load_pkl(\"/content/drive/MyDrive/Recommendation_system//audio_embedding.obj\")     #will load pkl data using func\n",
        "user_size= len(user_enc.get(list(user_enc.keys())[0])) #user_size --> 915\n",
        "print(user_size)\n",
        "\n",
        "audio = load_pkl(\"/content/drive/MyDrive/Recommendation_system/audio_embedding.obj\")\n",
        "\n",
        "\n",
        "def shuffle_single_epoch(ratings):  #will shuffle the provided data\n",
        "    data_copied= ratings.copy() \n",
        "    random.shuffle(data_copied)\n",
        "    return data_copied\n",
        "\n",
        "    \n",
        "def normalize_rate(rate):\n",
        "    return rate/5\n",
        "\n",
        "def de_normalize_rate(rate):\n",
        "    return rate*5\n",
        "\n",
        "\n",
        "def get_nth_batch(data):\n",
        "\n",
        "    users, movies, nrates= [], [], [] # 3 empty list \n",
        "    \n",
        "    for user_id, movie_id, rate in data:\n",
        "        #user_id --> 11megha89 , movie_id --.tt014651 , rate --> 1,0,-1\n",
        "        if user_enc.get(user_id) is None:    #Return user_vec --> 915\n",
        "            continue\n",
        "        try:\n",
        "            m_vid= audio[movie_id]\n",
        "            #print(m_vid.shape) -->(112, 112, 9)\n",
        "        except:\n",
        "            continue\n",
        "        users.append(user_enc.get(user_id)) #Will \n",
        "        movies.append(m_vid)\n",
        "        if int(rate) == -1:\n",
        "               nrates.append([0,0,1])\n",
        "        elif int(rate) == 1:\n",
        "               nrates.append([0,1,0])\n",
        "        elif int(rate) == 0:\n",
        "               nrates.append([1,0,0])\n",
        "               \n",
        "    users= np.array(users, dtype=float)\n",
        "    # print(users.shape) --> (64, 915)\n",
        "    movies= np.array(movies, dtype=float)\n",
        "    # print(movies.shape) --> (64, 112, 112, 9)\n",
        "    nrates= np.array(nrates, dtype=float)\n",
        "    #print(nrates.shape) --> (64,)\n",
        "\n",
        "    assert len(users)==len(movies)==len(nrates)\n",
        "\n",
        "    return users, movies, nrates\n",
        "\n",
        "\n",
        "\n",
        "def test(model, test_data):\n",
        "    test_acc,test_loss= [],[]\n",
        "    test_final_acc,test_final_loss = [] , []\n",
        "    batch_count= ceil(len(test_data)/batch_size)\n",
        "    for batch_id in range(batch_count):\n",
        "        print(\" -> Testing Batch: \", batch_id)\n",
        "        user, movie, rate= get_nth_batch(test_data, batch_id)\n",
        "        loss , acc = model.evaluate([movie, user], rate)\n",
        "        test_acc.append(acc)\n",
        "        test_loss.append(loss)\n",
        "        \n",
        "    test_final_acc.append(sum(test_acc)/len(test_acc))\n",
        "    test_final_loss.append(sum(test_loss)/len(test_acc))\n",
        "    return sum(test_acc)/len(test_acc) , sum(test_loss)/len(test_acc)\n",
        "\n",
        "\n",
        "\n",
        "def train(model, data, test_data= None, epochs=50):\n",
        "    test_acc_main = 0\n",
        "    batch_count= ceil(len(data)/batch_size)       \n",
        "    for epoch_id in range(1, epochs+1):\n",
        "        data= shuffle_single_epoch(data)\n",
        "        print(\"\\n\\t---- Starting Epoch:\", epoch_id, \"----\")\n",
        "        \n",
        "        for batch_id in range(batch_count):\n",
        "            print(\" -> Batch: \", batch_id)\n",
        "            print(batch_id)\n",
        "            user, movie, rate= get_nth_batch(data, batch_id,batch_size) \n",
        "            #print(rate.shape)                        \n",
        "            model.fit([movie, user], rate, batch_size=batch_size, epochs=1)            \n",
        "            \n",
        "        if test_data is not None:\n",
        "            test_acc , test_loss= test(model, test_data)\n",
        "            print(\"TestAcc after Epoch\",epoch_id,\": \",test_acc)\n",
        "            print(\"TestLoss after Epoch\",epoch_id,\": \",test_loss)\n",
        "            if test_acc>test_acc_main:\n",
        "                    test_acc_main = test_acc\n",
        "                    location= \"./model_vid/\"\n",
        "                    model.save(location+\"/model_abc.h5\")\n"
      ]
    },
    {
      "cell_type": "code",
      "execution_count": null,
      "metadata": {
        "id": "Og-cBaD7J4hZ"
      },
      "outputs": [],
      "source": [
        "data_obj = test_obj + train_obj\n",
        "pd_data = pd.DataFrame(data_obj)\n",
        "\n",
        "results = []\n",
        "for i in pd_data.iloc[:,2]:\n",
        "    results.append(i[0])\n",
        "\n",
        "pd_data[3] = results\n",
        "x_data = np.array(pd_data.iloc[:,:2])\n",
        "y_data = np.array(pd_data.iloc[:,3])"
      ]
    },
    {
      "cell_type": "code",
      "execution_count": null,
      "metadata": {
        "id": "Mjpo8nh9J4ha"
      },
      "outputs": [],
      "source": [
        "X_train, X_test, y_train, y_test = train_test_split(x_data, y_data, stratify=y_data ,test_size=0.2)\n",
        "\n",
        "train_obj = pd.DataFrame(X_train)\n",
        "train_obj[3] = pd.DataFrame(y_train)\n",
        "train_obj = np.array(train_obj)\n",
        "\n",
        "test_obj = pd.DataFrame(X_test)\n",
        "test_obj[3] = pd.DataFrame(y_test)\n",
        "test_obj = np.array(test_obj)"
      ]
    },
    {
      "cell_type": "code",
      "source": [
        "int(563.5)"
      ],
      "metadata": {
        "colab": {
          "base_uri": "https://localhost:8080/"
        },
        "id": "veW0tWDFV0sh",
        "outputId": "65a21050-0a58-4ad5-c83f-658a6bc04ce3"
      },
      "execution_count": null,
      "outputs": [
        {
          "output_type": "execute_result",
          "data": {
            "text/plain": [
              "563"
            ]
          },
          "metadata": {},
          "execution_count": 12
        }
      ]
    },
    {
      "cell_type": "code",
      "execution_count": null,
      "metadata": {
        "id": "iCmUL-dJKMrQ"
      },
      "outputs": [],
      "source": [
        "def audio_Main_Model(input_dim,audio_encode_dim,user_size):\n",
        "\n",
        "    input_length  = input_dim\n",
        "    print(input_length)\n",
        "    audio_encode_dim = audio_encode_dim\n",
        "    user_size = user_size\n",
        "    \n",
        "    #------------------------------------------AUDIO MODEL-------------------------------------------\n",
        "    audio_input = keras.layers.Input(shape=(input_length),name=\"audio_input\")\n",
        "   \n",
        "    #flatten\n",
        "    dense1 = keras.layers.Dense(units = 512 , activation = \"tanh\")(audio_input)\n",
        "    dense2 = keras.layers.Dense(units = 256 , activation = \"tanh\")(dense1)\n",
        "    dense3 = keras.layers.Dense(units = 128 , activation = \"tanh\")(dense2)\n",
        "    \n",
        "    audio_model = keras.models.Model(inputs = audio_input , outputs = dense3)\n",
        "    \n",
        "    #-----------------------------------------USER MODEL------------------------------------------------------\n",
        "    \n",
        "    user1 = keras.layers.Input(shape=(user_size,) , name = \"User_Input\")\n",
        "    user1_norm =  keras.layers.BatchNormalization()(user1)\n",
        "    user_dense= keras.layers.Dense(units= int(user_size*2/3), activation=\"tanh\")(user1_norm)\n",
        "    \n",
        "    user_model = keras.models.Model(inputs = user1 , outputs = user_dense)\n",
        "        \n",
        "    #-----------------------------------------Concatination--------------------------------------------------\n",
        "    combined = keras.layers.concatenate([audio_model.output, user_model.output])\n",
        "    combined_norm = keras.layers.BatchNormalization()(combined)\n",
        "    print(int((audio_encode_dim + user_size)/2))\n",
        "    concat_dense1 = keras.layers.Dense(units= int((audio_encode_dim + user_size)/2), activation=\"tanh\")(combined_norm)\n",
        "    concat_dense2 = keras.layers.Dense(units=1024, activation=\"sigmoid\")(concat_dense1)    \n",
        "    concat_dense3 = keras.layers.Dense(units=128, activation=\"sigmoid\" )(concat_dense2)    \n",
        "    concat_softmax = keras.layers.Dense(units=3, activation=\"softmax\")(concat_dense3)\n",
        "    \n",
        "    model = keras.models.Model(inputs=[audio_model.input, user_model.input], outputs = concat_softmax)\n",
        "    \n",
        "    return model"
      ]
    },
    {
      "cell_type": "code",
      "execution_count": null,
      "metadata": {
        "colab": {
          "base_uri": "https://localhost:8080/"
        },
        "id": "p04SZU9BJ4ha",
        "outputId": "0ecde6dd-f926-4a35-e0f8-43b98ff819b4"
      },
      "outputs": [
        {
          "output_type": "stream",
          "name": "stdout",
          "text": [
            "999\n",
            "666\n"
          ]
        }
      ],
      "source": [
        "model = audio_Main_Model(input_dimension,audio_encode_dim,user_size)\n",
        "model.compile(loss='categorical_crossentropy', optimizer='adam', metrics=['accuracy'])"
      ]
    },
    {
      "cell_type": "code",
      "execution_count": null,
      "metadata": {
        "colab": {
          "base_uri": "https://localhost:8080/"
        },
        "id": "3Q0o4sHpJ4hb",
        "outputId": "0f37fe55-b3e6-42a0-d2ce-8cac31a19708"
      },
      "outputs": [
        {
          "output_type": "stream",
          "name": "stdout",
          "text": [
            "Model: \"model_2\"\n",
            "__________________________________________________________________________________________________\n",
            " Layer (type)                   Output Shape         Param #     Connected to                     \n",
            "==================================================================================================\n",
            " audio_input (InputLayer)       [(None, 999)]        0           []                               \n",
            "                                                                                                  \n",
            " dense (Dense)                  (None, 999)          999000      ['audio_input[0][0]']            \n",
            "                                                                                                  \n",
            " User_Input (InputLayer)        [(None, 999)]        0           []                               \n",
            "                                                                                                  \n",
            " dense_1 (Dense)                (None, 666)          666000      ['dense[0][0]']                  \n",
            "                                                                                                  \n",
            " batch_normalization (BatchNorm  (None, 999)         3996        ['User_Input[0][0]']             \n",
            " alization)                                                                                       \n",
            "                                                                                                  \n",
            " dense_2 (Dense)                (None, 512)          341504      ['dense_1[0][0]']                \n",
            "                                                                                                  \n",
            " dense_3 (Dense)                (None, 666)          666000      ['batch_normalization[0][0]']    \n",
            "                                                                                                  \n",
            " concatenate (Concatenate)      (None, 1178)         0           ['dense_2[0][0]',                \n",
            "                                                                  'dense_3[0][0]']                \n",
            "                                                                                                  \n",
            " batch_normalization_1 (BatchNo  (None, 1178)        4712        ['concatenate[0][0]']            \n",
            " rmalization)                                                                                     \n",
            "                                                                                                  \n",
            " dense_4 (Dense)                (None, 666)          785214      ['batch_normalization_1[0][0]']  \n",
            "                                                                                                  \n",
            " dense_5 (Dense)                (None, 1024)         683008      ['dense_4[0][0]']                \n",
            "                                                                                                  \n",
            " dense_6 (Dense)                (None, 128)          131200      ['dense_5[0][0]']                \n",
            "                                                                                                  \n",
            " dense_7 (Dense)                (None, 3)            387         ['dense_6[0][0]']                \n",
            "                                                                                                  \n",
            "==================================================================================================\n",
            "Total params: 4,281,021\n",
            "Trainable params: 4,276,667\n",
            "Non-trainable params: 4,354\n",
            "__________________________________________________________________________________________________\n",
            "None\n"
          ]
        }
      ],
      "source": [
        "print(model.summary())"
      ]
    },
    {
      "cell_type": "markdown",
      "metadata": {
        "id": "gV6o1kPrJ4hb"
      },
      "source": [
        "# Training "
      ]
    },
    {
      "cell_type": "code",
      "execution_count": null,
      "metadata": {
        "id": "kgYEfW8KJ4hb"
      },
      "outputs": [],
      "source": [
        "users_train, movies_train, nrates_train = get_nth_batch(train_obj)"
      ]
    },
    {
      "cell_type": "code",
      "source": [
        "train_obj"
      ],
      "metadata": {
        "colab": {
          "base_uri": "https://localhost:8080/"
        },
        "id": "lG2ZkC4q8ovB",
        "outputId": "b13a45e8-f27a-4e6f-9696-35347d557c9f"
      },
      "execution_count": null,
      "outputs": [
        {
          "output_type": "execute_result",
          "data": {
            "text/plain": [
              "array([['Shubhra', 'tt2210576', '0'],\n",
              "       ['Satyam007', 'tt1713499', '0'],\n",
              "       ['nishant', 'tt1324059', '1'],\n",
              "       ...,\n",
              "       ['sangeeta65', 'tt4434004', '1'],\n",
              "       ['shamim', 'tt0360399', '1'],\n",
              "       ['shashank', 'tt0085913', '-1']], dtype=object)"
            ]
          },
          "metadata": {},
          "execution_count": 18
        }
      ]
    },
    {
      "cell_type": "code",
      "source": [
        "nrates_train[0]"
      ],
      "metadata": {
        "colab": {
          "base_uri": "https://localhost:8080/"
        },
        "id": "cQ2Z2PEr1wQl",
        "outputId": "e4c3ff99-0a0a-4195-d8a1-7cd6a155b23d"
      },
      "execution_count": null,
      "outputs": [
        {
          "output_type": "execute_result",
          "data": {
            "text/plain": [
              "array([1., 0., 0.])"
            ]
          },
          "metadata": {},
          "execution_count": 19
        }
      ]
    },
    {
      "cell_type": "code",
      "execution_count": null,
      "metadata": {
        "colab": {
          "base_uri": "https://localhost:8080/"
        },
        "id": "O4225D3MJ4hb",
        "outputId": "6e1b11e2-2ccc-4eef-ef68-433e9037be01"
      },
      "outputs": [
        {
          "output_type": "stream",
          "name": "stdout",
          "text": [
            "Epoch 1/100\n",
            "751/751 [==============================] - 51s 65ms/step - loss: 0.8413 - accuracy: 0.6421 - val_loss: 0.7319 - val_accuracy: 0.7146\n",
            "Epoch 2/100\n",
            "751/751 [==============================] - 45s 60ms/step - loss: 0.7310 - accuracy: 0.7117 - val_loss: 0.6852 - val_accuracy: 0.7341\n",
            "Epoch 3/100\n",
            "751/751 [==============================] - 43s 58ms/step - loss: 0.6826 - accuracy: 0.7284 - val_loss: 0.6698 - val_accuracy: 0.7378\n",
            "Epoch 4/100\n",
            "751/751 [==============================] - 44s 59ms/step - loss: 0.6533 - accuracy: 0.7459 - val_loss: 0.6610 - val_accuracy: 0.7438\n",
            "Epoch 5/100\n",
            "751/751 [==============================] - 43s 57ms/step - loss: 0.6271 - accuracy: 0.7531 - val_loss: 0.6549 - val_accuracy: 0.7468\n",
            "Epoch 6/100\n",
            "751/751 [==============================] - 43s 58ms/step - loss: 0.6118 - accuracy: 0.7613 - val_loss: 0.6573 - val_accuracy: 0.7521\n",
            "Epoch 7/100\n",
            "751/751 [==============================] - 43s 57ms/step - loss: 0.5951 - accuracy: 0.7645 - val_loss: 0.6435 - val_accuracy: 0.7521\n",
            "Epoch 8/100\n",
            "751/751 [==============================] - 44s 59ms/step - loss: 0.5806 - accuracy: 0.7716 - val_loss: 0.6735 - val_accuracy: 0.7581\n",
            "Epoch 9/100\n",
            "751/751 [==============================] - 46s 61ms/step - loss: 0.5652 - accuracy: 0.7754 - val_loss: 0.6510 - val_accuracy: 0.7581\n",
            "Epoch 10/100\n",
            "751/751 [==============================] - 43s 57ms/step - loss: 0.5579 - accuracy: 0.7779 - val_loss: 0.6486 - val_accuracy: 0.7558\n",
            "Epoch 11/100\n",
            "751/751 [==============================] - 43s 57ms/step - loss: 0.5454 - accuracy: 0.7844 - val_loss: 0.6465 - val_accuracy: 0.7446\n",
            "Epoch 12/100\n",
            "751/751 [==============================] - 44s 58ms/step - loss: 0.5366 - accuracy: 0.7851 - val_loss: 0.6290 - val_accuracy: 0.7648\n",
            "Epoch 13/100\n",
            "751/751 [==============================] - 42s 56ms/step - loss: 0.5246 - accuracy: 0.7965 - val_loss: 0.6338 - val_accuracy: 0.7558\n",
            "Epoch 14/100\n",
            "751/751 [==============================] - 45s 60ms/step - loss: 0.5124 - accuracy: 0.7944 - val_loss: 0.6345 - val_accuracy: 0.7655\n",
            "Epoch 15/100\n",
            "751/751 [==============================] - 45s 60ms/step - loss: 0.5043 - accuracy: 0.8020 - val_loss: 0.6553 - val_accuracy: 0.7506\n",
            "Epoch 16/100\n",
            "751/751 [==============================] - 44s 59ms/step - loss: 0.4966 - accuracy: 0.8025 - val_loss: 0.6631 - val_accuracy: 0.7610\n",
            "Epoch 17/100\n",
            "751/751 [==============================] - 44s 59ms/step - loss: 0.4996 - accuracy: 0.8050 - val_loss: 0.6803 - val_accuracy: 0.7453\n",
            "Epoch 18/100\n",
            "751/751 [==============================] - 44s 58ms/step - loss: 0.4848 - accuracy: 0.8066 - val_loss: 0.7099 - val_accuracy: 0.7558\n",
            "Epoch 19/100\n",
            "751/751 [==============================] - 44s 59ms/step - loss: 0.4747 - accuracy: 0.8119 - val_loss: 0.7033 - val_accuracy: 0.7446\n",
            "Epoch 20/100\n",
            "751/751 [==============================] - 43s 58ms/step - loss: 0.4650 - accuracy: 0.8159 - val_loss: 0.6687 - val_accuracy: 0.7566\n",
            "Epoch 21/100\n",
            "751/751 [==============================] - 43s 58ms/step - loss: 0.4613 - accuracy: 0.8184 - val_loss: 0.6796 - val_accuracy: 0.7596\n",
            "Epoch 22/100\n",
            "751/751 [==============================] - 43s 58ms/step - loss: 0.4421 - accuracy: 0.8219 - val_loss: 0.6993 - val_accuracy: 0.7491\n",
            "Epoch 23/100\n",
            "751/751 [==============================] - 43s 57ms/step - loss: 0.4431 - accuracy: 0.8272 - val_loss: 0.7173 - val_accuracy: 0.7588\n",
            "Epoch 24/100\n",
            "751/751 [==============================] - 43s 57ms/step - loss: 0.4412 - accuracy: 0.8264 - val_loss: 0.6917 - val_accuracy: 0.7603\n",
            "Epoch 25/100\n",
            "751/751 [==============================] - 44s 59ms/step - loss: 0.4276 - accuracy: 0.8311 - val_loss: 0.6980 - val_accuracy: 0.7603\n",
            "Epoch 26/100\n",
            "751/751 [==============================] - 43s 58ms/step - loss: 0.4225 - accuracy: 0.8323 - val_loss: 0.7182 - val_accuracy: 0.7491\n",
            "Epoch 27/100\n",
            "751/751 [==============================] - 43s 57ms/step - loss: 0.4137 - accuracy: 0.8371 - val_loss: 0.7335 - val_accuracy: 0.7536\n",
            "Epoch 28/100\n",
            "751/751 [==============================] - 43s 57ms/step - loss: 0.4066 - accuracy: 0.8373 - val_loss: 0.7841 - val_accuracy: 0.7536\n",
            "Epoch 29/100\n",
            "751/751 [==============================] - 42s 56ms/step - loss: 0.4018 - accuracy: 0.8440 - val_loss: 0.7204 - val_accuracy: 0.7640\n",
            "Epoch 30/100\n",
            "751/751 [==============================] - 43s 57ms/step - loss: 0.3891 - accuracy: 0.8484 - val_loss: 0.7580 - val_accuracy: 0.7610\n",
            "Epoch 31/100\n",
            "751/751 [==============================] - 43s 57ms/step - loss: 0.3784 - accuracy: 0.8493 - val_loss: 0.7462 - val_accuracy: 0.7543\n",
            "Epoch 32/100\n",
            "751/751 [==============================] - 42s 56ms/step - loss: 0.3742 - accuracy: 0.8497 - val_loss: 0.7576 - val_accuracy: 0.7625\n",
            "Epoch 33/100\n",
            "751/751 [==============================] - 42s 56ms/step - loss: 0.3563 - accuracy: 0.8591 - val_loss: 0.7537 - val_accuracy: 0.7438\n",
            "Epoch 34/100\n",
            "751/751 [==============================] - 42s 56ms/step - loss: 0.3639 - accuracy: 0.8562 - val_loss: 0.7508 - val_accuracy: 0.7483\n",
            "Epoch 35/100\n",
            "751/751 [==============================] - 43s 57ms/step - loss: 0.3463 - accuracy: 0.8635 - val_loss: 0.8070 - val_accuracy: 0.7596\n",
            "Epoch 36/100\n",
            "751/751 [==============================] - 43s 57ms/step - loss: 0.3509 - accuracy: 0.8668 - val_loss: 0.8056 - val_accuracy: 0.7506\n",
            "Epoch 37/100\n",
            "751/751 [==============================] - 45s 60ms/step - loss: 0.3460 - accuracy: 0.8645 - val_loss: 0.7848 - val_accuracy: 0.7483\n",
            "Epoch 38/100\n",
            "751/751 [==============================] - 44s 58ms/step - loss: 0.3322 - accuracy: 0.8661 - val_loss: 0.8103 - val_accuracy: 0.7558\n",
            "Epoch 39/100\n",
            "751/751 [==============================] - 43s 57ms/step - loss: 0.3266 - accuracy: 0.8721 - val_loss: 0.8456 - val_accuracy: 0.7513\n",
            "Epoch 40/100\n",
            "751/751 [==============================] - 42s 56ms/step - loss: 0.3230 - accuracy: 0.8761 - val_loss: 0.8106 - val_accuracy: 0.7506\n",
            "Epoch 41/100\n",
            "751/751 [==============================] - 43s 58ms/step - loss: 0.3105 - accuracy: 0.8773 - val_loss: 0.8032 - val_accuracy: 0.7648\n",
            "Epoch 42/100\n",
            "751/751 [==============================] - 43s 58ms/step - loss: 0.2982 - accuracy: 0.8827 - val_loss: 0.8334 - val_accuracy: 0.7446\n",
            "Epoch 43/100\n",
            "751/751 [==============================] - 43s 57ms/step - loss: 0.2998 - accuracy: 0.8851 - val_loss: 0.8639 - val_accuracy: 0.7386\n",
            "Epoch 44/100\n",
            "751/751 [==============================] - 44s 58ms/step - loss: 0.2971 - accuracy: 0.8868 - val_loss: 0.9284 - val_accuracy: 0.7303\n",
            "Epoch 45/100\n",
            "751/751 [==============================] - 44s 58ms/step - loss: 0.2971 - accuracy: 0.8869 - val_loss: 0.8939 - val_accuracy: 0.7318\n",
            "Epoch 46/100\n",
            "751/751 [==============================] - 47s 63ms/step - loss: 0.2955 - accuracy: 0.8848 - val_loss: 0.8617 - val_accuracy: 0.7393\n",
            "Epoch 47/100\n",
            "751/751 [==============================] - 42s 57ms/step - loss: 0.2858 - accuracy: 0.8935 - val_loss: 0.9159 - val_accuracy: 0.7258\n",
            "Epoch 48/100\n",
            "751/751 [==============================] - 42s 55ms/step - loss: 0.2797 - accuracy: 0.8928 - val_loss: 0.9179 - val_accuracy: 0.7318\n",
            "Epoch 49/100\n",
            "751/751 [==============================] - 41s 55ms/step - loss: 0.2776 - accuracy: 0.8937 - val_loss: 0.9440 - val_accuracy: 0.7288\n",
            "Epoch 50/100\n",
            "751/751 [==============================] - 41s 54ms/step - loss: 0.2703 - accuracy: 0.8970 - val_loss: 0.9839 - val_accuracy: 0.7401\n",
            "Epoch 51/100\n",
            "751/751 [==============================] - 43s 57ms/step - loss: 0.2707 - accuracy: 0.8933 - val_loss: 0.8942 - val_accuracy: 0.7491\n",
            "Epoch 52/100\n",
            "751/751 [==============================] - 45s 60ms/step - loss: 0.2727 - accuracy: 0.8942 - val_loss: 0.9273 - val_accuracy: 0.7423\n",
            "Epoch 53/100\n",
            "751/751 [==============================] - 47s 63ms/step - loss: 0.2646 - accuracy: 0.8983 - val_loss: 0.9135 - val_accuracy: 0.7393\n",
            "Epoch 54/100\n",
            "751/751 [==============================] - 45s 61ms/step - loss: 0.2579 - accuracy: 0.9003 - val_loss: 0.9233 - val_accuracy: 0.7423\n",
            "Epoch 55/100\n",
            "751/751 [==============================] - 46s 61ms/step - loss: 0.2455 - accuracy: 0.9045 - val_loss: 0.9928 - val_accuracy: 0.7513\n",
            "Epoch 56/100\n",
            "751/751 [==============================] - 48s 63ms/step - loss: 0.2439 - accuracy: 0.9064 - val_loss: 1.0309 - val_accuracy: 0.7401\n",
            "Epoch 57/100\n",
            "751/751 [==============================] - 46s 62ms/step - loss: 0.2384 - accuracy: 0.9102 - val_loss: 1.0858 - val_accuracy: 0.7071\n",
            "Epoch 58/100\n",
            "751/751 [==============================] - 48s 65ms/step - loss: 0.2334 - accuracy: 0.9094 - val_loss: 1.0467 - val_accuracy: 0.7423\n",
            "Epoch 59/100\n",
            "751/751 [==============================] - 47s 63ms/step - loss: 0.2328 - accuracy: 0.9129 - val_loss: 1.0462 - val_accuracy: 0.7446\n",
            "Epoch 60/100\n",
            "751/751 [==============================] - 49s 65ms/step - loss: 0.2238 - accuracy: 0.9144 - val_loss: 1.0243 - val_accuracy: 0.7386\n",
            "Epoch 61/100\n",
            "751/751 [==============================] - 47s 63ms/step - loss: 0.2284 - accuracy: 0.9130 - val_loss: 1.0028 - val_accuracy: 0.7386\n",
            "Epoch 62/100\n",
            "751/751 [==============================] - 47s 62ms/step - loss: 0.2308 - accuracy: 0.9161 - val_loss: 1.0011 - val_accuracy: 0.7281\n",
            "Epoch 63/100\n",
            "751/751 [==============================] - 47s 63ms/step - loss: 0.2193 - accuracy: 0.9194 - val_loss: 1.0377 - val_accuracy: 0.7386\n",
            "Epoch 64/100\n",
            "751/751 [==============================] - 47s 63ms/step - loss: 0.2250 - accuracy: 0.9151 - val_loss: 1.0004 - val_accuracy: 0.7356\n",
            "Epoch 65/100\n",
            "751/751 [==============================] - 46s 61ms/step - loss: 0.2170 - accuracy: 0.9173 - val_loss: 1.0119 - val_accuracy: 0.7453\n",
            "Epoch 66/100\n",
            "751/751 [==============================] - 46s 61ms/step - loss: 0.2077 - accuracy: 0.9232 - val_loss: 1.1069 - val_accuracy: 0.7483\n",
            "Epoch 67/100\n",
            "751/751 [==============================] - 46s 61ms/step - loss: 0.2031 - accuracy: 0.9247 - val_loss: 1.0802 - val_accuracy: 0.7333\n",
            "Epoch 68/100\n",
            "751/751 [==============================] - 47s 63ms/step - loss: 0.2024 - accuracy: 0.9245 - val_loss: 1.1201 - val_accuracy: 0.7378\n",
            "Epoch 69/100\n",
            "751/751 [==============================] - 47s 62ms/step - loss: 0.1993 - accuracy: 0.9282 - val_loss: 1.0882 - val_accuracy: 0.7356\n",
            "Epoch 70/100\n",
            "751/751 [==============================] - 46s 61ms/step - loss: 0.1952 - accuracy: 0.9276 - val_loss: 1.1159 - val_accuracy: 0.7213\n",
            "Epoch 71/100\n",
            "751/751 [==============================] - 46s 62ms/step - loss: 0.1954 - accuracy: 0.9285 - val_loss: 1.0133 - val_accuracy: 0.7333\n",
            "Epoch 72/100\n",
            "751/751 [==============================] - 45s 60ms/step - loss: 0.1952 - accuracy: 0.9317 - val_loss: 1.1124 - val_accuracy: 0.7109\n",
            "Epoch 73/100\n",
            "751/751 [==============================] - 46s 61ms/step - loss: 0.1970 - accuracy: 0.9296 - val_loss: 1.0637 - val_accuracy: 0.7318\n",
            "Epoch 74/100\n",
            "751/751 [==============================] - 47s 62ms/step - loss: 0.1830 - accuracy: 0.9312 - val_loss: 1.0862 - val_accuracy: 0.7348\n",
            "Epoch 75/100\n",
            "751/751 [==============================] - 46s 61ms/step - loss: 0.1894 - accuracy: 0.9321 - val_loss: 1.0740 - val_accuracy: 0.7281\n",
            "Epoch 76/100\n",
            "751/751 [==============================] - 45s 60ms/step - loss: 0.1759 - accuracy: 0.9347 - val_loss: 1.0992 - val_accuracy: 0.7476\n",
            "Epoch 77/100\n",
            "751/751 [==============================] - 45s 60ms/step - loss: 0.1866 - accuracy: 0.9312 - val_loss: 1.1658 - val_accuracy: 0.7191\n",
            "Epoch 78/100\n",
            "751/751 [==============================] - 46s 61ms/step - loss: 0.1832 - accuracy: 0.9302 - val_loss: 1.1527 - val_accuracy: 0.7273\n",
            "Epoch 79/100\n",
            "751/751 [==============================] - 48s 63ms/step - loss: 0.1826 - accuracy: 0.9347 - val_loss: 1.0880 - val_accuracy: 0.7408\n",
            "Epoch 80/100\n",
            "751/751 [==============================] - 46s 61ms/step - loss: 0.1807 - accuracy: 0.9354 - val_loss: 1.1728 - val_accuracy: 0.7303\n",
            "Epoch 81/100\n",
            "751/751 [==============================] - 47s 62ms/step - loss: 0.1782 - accuracy: 0.9328 - val_loss: 1.1373 - val_accuracy: 0.7356\n",
            "Epoch 82/100\n",
            "751/751 [==============================] - 47s 62ms/step - loss: 0.1715 - accuracy: 0.9364 - val_loss: 1.0824 - val_accuracy: 0.7401\n",
            "Epoch 83/100\n",
            "751/751 [==============================] - 45s 60ms/step - loss: 0.1619 - accuracy: 0.9396 - val_loss: 1.0631 - val_accuracy: 0.7273\n",
            "Epoch 84/100\n",
            "751/751 [==============================] - 47s 62ms/step - loss: 0.1641 - accuracy: 0.9386 - val_loss: 1.0902 - val_accuracy: 0.7341\n",
            "Epoch 85/100\n",
            "751/751 [==============================] - 46s 62ms/step - loss: 0.1684 - accuracy: 0.9375 - val_loss: 1.1592 - val_accuracy: 0.7326\n",
            "Epoch 86/100\n",
            "751/751 [==============================] - 46s 61ms/step - loss: 0.1680 - accuracy: 0.9388 - val_loss: 1.1826 - val_accuracy: 0.7326\n",
            "Epoch 87/100\n",
            "751/751 [==============================] - 46s 61ms/step - loss: 0.1604 - accuracy: 0.9422 - val_loss: 1.1295 - val_accuracy: 0.7513\n",
            "Epoch 88/100\n",
            "751/751 [==============================] - 46s 61ms/step - loss: 0.1695 - accuracy: 0.9411 - val_loss: 1.1913 - val_accuracy: 0.7393\n",
            "Epoch 89/100\n",
            "751/751 [==============================] - 47s 63ms/step - loss: 0.1620 - accuracy: 0.9401 - val_loss: 1.1919 - val_accuracy: 0.7243\n",
            "Epoch 90/100\n",
            "751/751 [==============================] - 48s 65ms/step - loss: 0.1573 - accuracy: 0.9438 - val_loss: 1.1826 - val_accuracy: 0.7386\n",
            "Epoch 91/100\n",
            "751/751 [==============================] - 51s 68ms/step - loss: 0.1621 - accuracy: 0.9401 - val_loss: 1.0919 - val_accuracy: 0.7453\n",
            "Epoch 92/100\n",
            "751/751 [==============================] - 46s 61ms/step - loss: 0.1539 - accuracy: 0.9451 - val_loss: 1.1907 - val_accuracy: 0.7318\n",
            "Epoch 93/100\n",
            "751/751 [==============================] - 46s 61ms/step - loss: 0.1572 - accuracy: 0.9431 - val_loss: 1.2286 - val_accuracy: 0.7266\n",
            "Epoch 94/100\n",
            "751/751 [==============================] - 47s 63ms/step - loss: 0.1640 - accuracy: 0.9411 - val_loss: 1.1112 - val_accuracy: 0.7423\n",
            "Epoch 95/100\n",
            "751/751 [==============================] - 47s 62ms/step - loss: 0.1466 - accuracy: 0.9465 - val_loss: 1.1647 - val_accuracy: 0.7461\n",
            "Epoch 96/100\n",
            "751/751 [==============================] - 46s 61ms/step - loss: 0.1546 - accuracy: 0.9413 - val_loss: 1.2337 - val_accuracy: 0.7386\n",
            "Epoch 97/100\n",
            "751/751 [==============================] - 46s 61ms/step - loss: 0.1567 - accuracy: 0.9447 - val_loss: 1.3260 - val_accuracy: 0.7243\n",
            "Epoch 98/100\n",
            "751/751 [==============================] - 46s 62ms/step - loss: 0.1509 - accuracy: 0.9447 - val_loss: 1.2029 - val_accuracy: 0.7363\n",
            "Epoch 99/100\n",
            "751/751 [==============================] - 46s 61ms/step - loss: 0.1520 - accuracy: 0.9440 - val_loss: 1.2329 - val_accuracy: 0.7311\n",
            "Epoch 100/100\n",
            "751/751 [==============================] - 46s 62ms/step - loss: 0.1435 - accuracy: 0.9476 - val_loss: 1.2361 - val_accuracy: 0.7468\n"
          ]
        }
      ],
      "source": [
        "early_stopping_callback = EarlyStopping(monitor = 'loss', patience = 12, mode = 'min', restore_best_weights = True)\n",
        " \n",
        "# Compile the model and specify loss function, optimizer and metrics to the model.\n",
        "model.compile(loss='categorical_crossentropy', optimizer='RMSprop', metrics=['accuracy'])\n",
        "\n",
        "# model_training_history = model.fit(x = [movies_train,users_train], y = nrates_train, epochs = 100, batch_size = 16 , shuffle = True, validation_split=0.1) \n",
        "# Start training the model.\n",
        "model_training_history = model.fit(x = [movies_train,users_train], y = nrates_train, epochs = 100, batch_size = 16 , shuffle = True, validation_split=0.1, callbacks = [early_stopping_callback])"
      ]
    },
    {
      "cell_type": "markdown",
      "metadata": {
        "id": "pTl6zq2PJ4hc"
      },
      "source": [
        "# Testing"
      ]
    },
    {
      "cell_type": "code",
      "execution_count": null,
      "metadata": {
        "id": "5CN-fWAZJ4hc"
      },
      "outputs": [],
      "source": [
        "users_test, movies_test, nrates_test = get_nth_batch(test_obj)"
      ]
    },
    {
      "cell_type": "code",
      "execution_count": null,
      "metadata": {
        "colab": {
          "base_uri": "https://localhost:8080/"
        },
        "id": "iQ-vn5XOJ4hc",
        "outputId": "1a64a6b3-0961-41cc-aa63-a981ed4644d0"
      },
      "outputs": [
        {
          "output_type": "stream",
          "name": "stdout",
          "text": [
            "105/105 [==============================] - 3s 26ms/step - loss: 1.1767 - accuracy: 0.7424\n"
          ]
        }
      ],
      "source": [
        "model_evaluation_history = model.evaluate(x = [movies_test,users_test], y = nrates_test)"
      ]
    },
    {
      "cell_type": "code",
      "execution_count": null,
      "metadata": {
        "colab": {
          "base_uri": "https://localhost:8080/"
        },
        "id": "CPJ7U8CWX3Uf",
        "outputId": "3c2112e4-a4b0-410e-c9a6-6557e461c15f"
      },
      "outputs": [
        {
          "output_type": "stream",
          "name": "stdout",
          "text": [
            "Model: \"model_2\"\n",
            "__________________________________________________________________________________________________\n",
            " Layer (type)                   Output Shape         Param #     Connected to                     \n",
            "==================================================================================================\n",
            " audio_input (InputLayer)       [(None, 999)]        0           []                               \n",
            "                                                                                                  \n",
            " dense (Dense)                  (None, 999)          999000      ['audio_input[0][0]']            \n",
            "                                                                                                  \n",
            " User_Input (InputLayer)        [(None, 999)]        0           []                               \n",
            "                                                                                                  \n",
            " dense_1 (Dense)                (None, 666)          666000      ['dense[0][0]']                  \n",
            "                                                                                                  \n",
            " batch_normalization (BatchNorm  (None, 999)         3996        ['User_Input[0][0]']             \n",
            " alization)                                                                                       \n",
            "                                                                                                  \n",
            " dense_2 (Dense)                (None, 512)          341504      ['dense_1[0][0]']                \n",
            "                                                                                                  \n",
            " dense_3 (Dense)                (None, 666)          666000      ['batch_normalization[0][0]']    \n",
            "                                                                                                  \n",
            " concatenate (Concatenate)      (None, 1178)         0           ['dense_2[0][0]',                \n",
            "                                                                  'dense_3[0][0]']                \n",
            "                                                                                                  \n",
            " batch_normalization_1 (BatchNo  (None, 1178)        4712        ['concatenate[0][0]']            \n",
            " rmalization)                                                                                     \n",
            "                                                                                                  \n",
            " dense_4 (Dense)                (None, 666)          785214      ['batch_normalization_1[0][0]']  \n",
            "                                                                                                  \n",
            " dense_5 (Dense)                (None, 1024)         683008      ['dense_4[0][0]']                \n",
            "                                                                                                  \n",
            " dense_6 (Dense)                (None, 128)          131200      ['dense_5[0][0]']                \n",
            "                                                                                                  \n",
            " dense_7 (Dense)                (None, 3)            387         ['dense_6[0][0]']                \n",
            "                                                                                                  \n",
            "==================================================================================================\n",
            "Total params: 4,281,021\n",
            "Trainable params: 4,276,667\n",
            "Non-trainable params: 4,354\n",
            "__________________________________________________________________________________________________\n"
          ]
        }
      ],
      "source": [
        "model.summary()"
      ]
    }
  ],
  "metadata": {
    "colab": {
      "collapsed_sections": [
        "eoP5Mjtyzp3P",
        "NASBYk9BzuTN",
        "YhGlHmdpz5TZ",
        "gV6o1kPrJ4hb",
        "pTl6zq2PJ4hc"
      ],
      "provenance": []
    },
    "gpuClass": "standard",
    "kernelspec": {
      "display_name": "Python 3 (ipykernel)",
      "language": "python",
      "name": "python3"
    },
    "language_info": {
      "codemirror_mode": {
        "name": "ipython",
        "version": 3
      },
      "file_extension": ".py",
      "mimetype": "text/x-python",
      "name": "python",
      "nbconvert_exporter": "python",
      "pygments_lexer": "ipython3",
      "version": "3.10.2"
    }
  },
  "nbformat": 4,
  "nbformat_minor": 0
}